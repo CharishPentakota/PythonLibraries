{
  "nbformat": 4,
  "nbformat_minor": 0,
  "metadata": {
    "colab": {
      "provenance": []
    },
    "kernelspec": {
      "name": "python3",
      "display_name": "Python 3"
    },
    "language_info": {
      "name": "python"
    }
  },
  "cells": [
    {
      "cell_type": "markdown",
      "source": [
        "#Create a 2D Numpy Array"
      ],
      "metadata": {
        "id": "DeC8YKpRjddt"
      }
    },
    {
      "cell_type": "code",
      "execution_count": 1,
      "metadata": {
        "id": "YWxQZPWTerop"
      },
      "outputs": [],
      "source": [
        "import numpy as np\n",
        "import matplotlib.pyplot as plt"
      ]
    },
    {
      "cell_type": "code",
      "source": [
        "# To Create a list\n",
        "a = [[11, 12, 13], [21, 22, 23], [31, 32, 33]]\n",
        "a"
      ],
      "metadata": {
        "colab": {
          "base_uri": "https://localhost:8080/"
        },
        "id": "qHcE_p8sjkJt",
        "outputId": "005a7b88-43ea-4a8f-84e7-833daed0e7ab"
      },
      "execution_count": 5,
      "outputs": [
        {
          "output_type": "execute_result",
          "data": {
            "text/plain": [
              "[[11, 12, 13], [21, 22, 23], [31, 32, 33]]"
            ]
          },
          "metadata": {},
          "execution_count": 5
        }
      ]
    },
    {
      "cell_type": "code",
      "source": [
        "# To Convert list to Numpy Array\n",
        "A = np.array(a)\n",
        "A"
      ],
      "metadata": {
        "colab": {
          "base_uri": "https://localhost:8080/"
        },
        "id": "AoRmOCWhjn52",
        "outputId": "36443c6b-e4d6-41e0-98da-6676446c21a1"
      },
      "execution_count": 6,
      "outputs": [
        {
          "output_type": "execute_result",
          "data": {
            "text/plain": [
              "array([[11, 12, 13],\n",
              "       [21, 22, 23],\n",
              "       [31, 32, 33]])"
            ]
          },
          "metadata": {},
          "execution_count": 6
        }
      ]
    },
    {
      "cell_type": "code",
      "source": [
        "# We can use the attribute to obtain the number of axes or dimensions, referred to as the rank.\n",
        "# To Show the numpy array dimensions\n",
        "A.ndim"
      ],
      "metadata": {
        "colab": {
          "base_uri": "https://localhost:8080/"
        },
        "id": "qcQNmG-aj3kY",
        "outputId": "33b36a47-21e9-49fe-e25b-08ee3ccc795f"
      },
      "execution_count": 7,
      "outputs": [
        {
          "output_type": "execute_result",
          "data": {
            "text/plain": [
              "2"
            ]
          },
          "metadata": {},
          "execution_count": 7
        }
      ]
    },
    {
      "cell_type": "code",
      "source": [
        "# Attribute shape returns a tuple corresponding to the size or number of each dimension.\n",
        "# To Show the numpy array shape\n",
        "A.shape"
      ],
      "metadata": {
        "colab": {
          "base_uri": "https://localhost:8080/"
        },
        "id": "hkGAw5UUj8-l",
        "outputId": "018116ec-bbec-4b20-8582-580a8433d0c9"
      },
      "execution_count": 9,
      "outputs": [
        {
          "output_type": "execute_result",
          "data": {
            "text/plain": [
              "(3, 3)"
            ]
          },
          "metadata": {},
          "execution_count": 9
        }
      ]
    },
    {
      "cell_type": "code",
      "source": [
        "#The total number of elements in the array is given by the attribute size.\n",
        "#To Show the numpy array size\n",
        "A.size"
      ],
      "metadata": {
        "colab": {
          "base_uri": "https://localhost:8080/"
        },
        "id": "ydN01o5ykj_g",
        "outputId": "f0a2e5d8-7784-4c3a-9a45-3a967a96d54a"
      },
      "execution_count": 10,
      "outputs": [
        {
          "output_type": "execute_result",
          "data": {
            "text/plain": [
              "9"
            ]
          },
          "metadata": {},
          "execution_count": 10
        }
      ]
    },
    {
      "cell_type": "markdown",
      "source": [
        "#Accessing different elements of a Numpy Array"
      ],
      "metadata": {
        "id": "b05gX1ick6Un"
      }
    },
    {
      "cell_type": "code",
      "source": [
        "# To Access the element on the second row and third column\n",
        "A[1, 2]"
      ],
      "metadata": {
        "colab": {
          "base_uri": "https://localhost:8080/"
        },
        "id": "a89vnkmSkySN",
        "outputId": "b0312de9-0a43-4cf3-d970-c7083ff79dd9"
      },
      "execution_count": 11,
      "outputs": [
        {
          "output_type": "execute_result",
          "data": {
            "text/plain": [
              "23"
            ]
          },
          "metadata": {},
          "execution_count": 11
        }
      ]
    },
    {
      "cell_type": "code",
      "source": [
        "# To Access the element on the first row and first column\n",
        "A[0][0]"
      ],
      "metadata": {
        "colab": {
          "base_uri": "https://localhost:8080/"
        },
        "id": "AQM-oInalAiD",
        "outputId": "32d915f6-a37c-4c7b-e330-97c91faabc0c"
      },
      "execution_count": 12,
      "outputs": [
        {
          "output_type": "execute_result",
          "data": {
            "text/plain": [
              "11"
            ]
          },
          "metadata": {},
          "execution_count": 12
        }
      ]
    },
    {
      "cell_type": "code",
      "source": [
        "# To Access the element on the first and second rows and third column\n",
        "A[0:2, 2]"
      ],
      "metadata": {
        "colab": {
          "base_uri": "https://localhost:8080/"
        },
        "id": "ndQFUkd-lFOn",
        "outputId": "9224fad8-bbb2-47bc-cea2-e938225f08d0"
      },
      "execution_count": 15,
      "outputs": [
        {
          "output_type": "execute_result",
          "data": {
            "text/plain": [
              "array([13, 23])"
            ]
          },
          "metadata": {},
          "execution_count": 15
        }
      ]
    },
    {
      "cell_type": "markdown",
      "source": [
        "#Basic Operations"
      ],
      "metadata": {
        "id": "jGWJ6M442HYa"
      }
    },
    {
      "cell_type": "code",
      "source": [
        "# To Create a numpy array X\n",
        "X = np.array([[1, 0], [0, 1]])\n",
        "X"
      ],
      "metadata": {
        "colab": {
          "base_uri": "https://localhost:8080/"
        },
        "id": "ol-KnK0a1xOS",
        "outputId": "d6a3893b-e49a-4e72-80eb-f729a908eff9"
      },
      "execution_count": 16,
      "outputs": [
        {
          "output_type": "execute_result",
          "data": {
            "text/plain": [
              "array([[1, 0],\n",
              "       [0, 1]])"
            ]
          },
          "metadata": {},
          "execution_count": 16
        }
      ]
    },
    {
      "cell_type": "code",
      "source": [
        "# To Create a numpy array Y\n",
        "Y = np.array([[2, 1], [1, 2]])\n",
        "Y"
      ],
      "metadata": {
        "colab": {
          "base_uri": "https://localhost:8080/"
        },
        "id": "G5pcve_P2M1v",
        "outputId": "9f15a3fb-e220-436e-e98e-1a3409c7d738"
      },
      "execution_count": 17,
      "outputs": [
        {
          "output_type": "execute_result",
          "data": {
            "text/plain": [
              "array([[2, 1],\n",
              "       [1, 2]])"
            ]
          },
          "metadata": {},
          "execution_count": 17
        }
      ]
    },
    {
      "cell_type": "code",
      "source": [
        "#To Add X and Y\n",
        "Z = X + Y\n",
        "Z"
      ],
      "metadata": {
        "colab": {
          "base_uri": "https://localhost:8080/"
        },
        "id": "j3M2iudy2S0m",
        "outputId": "3cb38184-4fdb-4c6a-e932-b454fc124db1"
      },
      "execution_count": 18,
      "outputs": [
        {
          "output_type": "execute_result",
          "data": {
            "text/plain": [
              "array([[3, 1],\n",
              "       [1, 3]])"
            ]
          },
          "metadata": {},
          "execution_count": 18
        }
      ]
    },
    {
      "cell_type": "code",
      "source": [
        "#To Create a numpy array Y\n",
        "Y = np.array([[2, 1], [1, 2]])\n",
        "Y"
      ],
      "metadata": {
        "colab": {
          "base_uri": "https://localhost:8080/"
        },
        "id": "4OG74KR72W_c",
        "outputId": "993f215b-7af0-4944-e6c8-dce65d38fb0e"
      },
      "execution_count": 19,
      "outputs": [
        {
          "output_type": "execute_result",
          "data": {
            "text/plain": [
              "array([[2, 1],\n",
              "       [1, 2]])"
            ]
          },
          "metadata": {},
          "execution_count": 19
        }
      ]
    },
    {
      "cell_type": "code",
      "source": [
        "#To Multiply Y with 2\n",
        "Z = 2 * Y\n",
        "Z"
      ],
      "metadata": {
        "colab": {
          "base_uri": "https://localhost:8080/"
        },
        "id": "jgyKceTS2jJS",
        "outputId": "d16f8765-e4f0-44ff-e385-8d2300cb703e"
      },
      "execution_count": 20,
      "outputs": [
        {
          "output_type": "execute_result",
          "data": {
            "text/plain": [
              "array([[4, 2],\n",
              "       [2, 4]])"
            ]
          },
          "metadata": {},
          "execution_count": 20
        }
      ]
    },
    {
      "cell_type": "code",
      "source": [
        "#To Multiply X with Y\n",
        "X = np.array([[1, 0], [0, 1]])\n",
        "Y = np.array([[2, 1], [1, 2]])\n",
        "Z = X * Y\n",
        "Z"
      ],
      "metadata": {
        "colab": {
          "base_uri": "https://localhost:8080/"
        },
        "id": "kqzxmqNh2mG4",
        "outputId": "09672729-1507-4edb-a134-0acbab18e00a"
      },
      "execution_count": 22,
      "outputs": [
        {
          "output_type": "execute_result",
          "data": {
            "text/plain": [
              "array([[2, 0],\n",
              "       [0, 2]])"
            ]
          },
          "metadata": {},
          "execution_count": 22
        }
      ]
    },
    {
      "cell_type": "markdown",
      "source": [
        "# To perform matrix multiplication with the numpy arrays A and B as follows:\n"
      ],
      "metadata": {
        "id": "RPIBQpye2_zl"
      }
    },
    {
      "cell_type": "code",
      "source": [
        "# Create a matrix A and B\n",
        "A = np.array([[0, 1, 1], [1, 0, 1]])\n",
        "B = np.array([[1, 1], [1, 1], [-1, 1]])\n",
        "\n",
        "# To Calculate the dot product\n",
        "Z = np.dot(A,B)\n",
        "Z"
      ],
      "metadata": {
        "colab": {
          "base_uri": "https://localhost:8080/"
        },
        "id": "kcVhudAq2ydW",
        "outputId": "47fc2a3e-03b5-4294-af5b-c84f0c44f3f5"
      },
      "execution_count": 30,
      "outputs": [
        {
          "output_type": "execute_result",
          "data": {
            "text/plain": [
              "array([[0, 2],\n",
              "       [0, 2]])"
            ]
          },
          "metadata": {},
          "execution_count": 30
        }
      ]
    },
    {
      "cell_type": "code",
      "source": [
        "#To Calculate the sine of Z\n",
        "np.sin(Z)"
      ],
      "metadata": {
        "colab": {
          "base_uri": "https://localhost:8080/"
        },
        "id": "A9pXi5H-3TGv",
        "outputId": "5ea79164-cf4b-4a7e-f250-da33c22d2ee8"
      },
      "execution_count": 24,
      "outputs": [
        {
          "output_type": "execute_result",
          "data": {
            "text/plain": [
              "array([[0.        , 0.90929743],\n",
              "       [0.        , 0.90929743]])"
            ]
          },
          "metadata": {},
          "execution_count": 24
        }
      ]
    },
    {
      "cell_type": "code",
      "source": [
        "# Transposed Matrix\n",
        "C = np.array([[1,1],[2,2],[3,3]])\n",
        "C"
      ],
      "metadata": {
        "colab": {
          "base_uri": "https://localhost:8080/"
        },
        "id": "1Ivqb1yy5WWq",
        "outputId": "14e4f2b9-4c52-49c2-9663-22e42966d6c7"
      },
      "execution_count": 28,
      "outputs": [
        {
          "output_type": "execute_result",
          "data": {
            "text/plain": [
              "array([[1, 1],\n",
              "       [2, 2],\n",
              "       [3, 3]])"
            ]
          },
          "metadata": {},
          "execution_count": 28
        }
      ]
    },
    {
      "cell_type": "code",
      "source": [
        "# Transposed of C\n",
        "C.T"
      ],
      "metadata": {
        "colab": {
          "base_uri": "https://localhost:8080/"
        },
        "id": "vHUVtrdu5hLr",
        "outputId": "a902ffc7-35ce-4578-e288-8b84fa0df896"
      },
      "execution_count": 29,
      "outputs": [
        {
          "output_type": "execute_result",
          "data": {
            "text/plain": [
              "array([[1, 2, 3],\n",
              "       [1, 2, 3]])"
            ]
          },
          "metadata": {},
          "execution_count": 29
        }
      ]
    }
  ]
}